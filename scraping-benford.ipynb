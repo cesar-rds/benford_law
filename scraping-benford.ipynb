{
 "cells": [
  {
   "cell_type": "code",
   "execution_count": 1,
   "metadata": {
    "ExecuteTime": {
     "end_time": "2021-04-16T00:41:16.497122Z",
     "start_time": "2021-04-16T00:41:15.604125Z"
    }
   },
   "outputs": [],
   "source": [
    "#importacao de bibliotecas\n",
    "from selenium import webdriver\n",
    "from selenium.webdriver.common.keys import Keys\n",
    "from selenium.webdriver.support import expected_conditions as EC\n",
    "from selenium.webdriver.common.by import By\n",
    "from selenium.webdriver.support.wait import WebDriverWait\n",
    "from selenium.webdriver.common.alert import Alert\n",
    "from selenium.webdriver.chrome.options import Options\n",
    "from selenium.webdriver.support.ui import WebDriverWait\n",
    "from selenium.common.exceptions import StaleElementReferenceException\n",
    "from selenium.common.exceptions import TimeoutException\n",
    "from datetime import date\n",
    "from webdriver_manager.chrome import ChromeDriverManager\n",
    "from time import sleep\n",
    "import time\n",
    "import datetime\n",
    "import os\n",
    "import pandas as pd\n",
    "import numpy as np\n",
    "import re\n",
    "import time\n",
    "import benford as bf\n",
    "from bs4 import BeautifulSoup\n",
    "from tqdm import tqdm"
   ]
  },
  {
   "cell_type": "code",
   "execution_count": 2,
   "metadata": {
    "ExecuteTime": {
     "end_time": "2021-04-16T00:42:52.460088Z",
     "start_time": "2021-04-16T00:42:52.454087Z"
    }
   },
   "outputs": [],
   "source": [
    "#lista que será passada na função para retirar os Ids dos seguidores\n",
    "lista_seguidores = []"
   ]
  },
  {
   "cell_type": "code",
   "execution_count": 3,
   "metadata": {
    "ExecuteTime": {
     "end_time": "2021-04-16T00:42:55.014411Z",
     "start_time": "2021-04-16T00:42:55.006099Z"
    }
   },
   "outputs": [],
   "source": [
    "#lista que receberá a quantidade de cada seguidor conforme a lista de seguidores\n",
    "numero_seguidores = []"
   ]
  },
  {
   "cell_type": "code",
   "execution_count": 4,
   "metadata": {
    "ExecuteTime": {
     "end_time": "2021-04-16T00:42:59.468351Z",
     "start_time": "2021-04-16T00:42:59.458348Z"
    }
   },
   "outputs": [],
   "source": [
    "def busca_seguidores(influencer, lista_seguidores):\n",
    "    from selenium import webdriver\n",
    "    from selenium.webdriver.common.keys import Keys\n",
    "    from webdriver_manager.chrome import ChromeDriverManager\n",
    "    import time\n",
    "    import benford as bf\n",
    "    from bs4 import BeautifulSoup\n",
    "    #entrada na conta do influencer, e verificação da quantidade de seguidores dele.\n",
    "    #abrindo webdriver\n",
    "    driver = webdriver.Chrome()\n",
    "    #abrindo site do instagram\n",
    "    driver.get(\"http://www.instagram.com\")\n",
    "    #selecionando inputs para insercao de dados, comando de espera\n",
    "    username = WebDriverWait(driver, 10).until(EC.element_to_be_clickable((By.CSS_SELECTOR, \"input[name='username']\")))\n",
    "    password = WebDriverWait(driver, 10).until(EC.element_to_be_clickable((By.CSS_SELECTOR, \"input[name='password']\")))\n",
    "\n",
    "    #login e senha do perfil de acesso\n",
    "    with open('instagram-tokens.txt', 'r') as tfile:\n",
    "        yourusername = tfile.readline().strip('\\n')\n",
    "        yourpassword = tfile.readline().strip('\\n')\n",
    "\n",
    "    #enviando dados para selenium\n",
    "    username.clear()\n",
    "    username.send_keys(yourusername)\n",
    "    password.clear()\n",
    "    password.send_keys(yourpassword)\n",
    "\n",
    "    #clicando no botão para enfim acessar perfil\n",
    "    button = WebDriverWait(driver, 2).until(EC.element_to_be_clickable((By.CSS_SELECTOR, \"button[type='submit']\"))).click()\n",
    "    time.sleep(5)\n",
    "    driver.get(\"http://www.instagram.com\")\n",
    "    button = WebDriverWait(driver, 20).until(EC.element_to_be_clickable((By.CSS_SELECTOR, \"button[class='aOOlW   HoLwm ']\"))).click()\n",
    "\n",
    "    #habemus login\n",
    "    driver.get('http://www.instagram.com/%s' %influencer)\n",
    "    sleep(2) \n",
    "    page = \"followers\"\n",
    "    driver.find_element_by_xpath('//a[contains(@href, \"%s\")]' % page).click()\n",
    "    seguidores_influencer = driver.find_element_by_xpath('//*[@id=\"react-root\"]/section/main/div/header/section/ul/li[2]/a/span')\n",
    "    total_seguidores = (int(re.sub(r'[^\\w\\s]','',seguidores_influencer.get_attribute('title'))))\n",
    "    sleep(2)\n",
    "    print('O total de seguidores dele é de %s' %total_seguidores)\n",
    "    sleep(3)   \n",
    "    #irá rolar a lista de seguidores até o fim, liberando todas as tags com os perfis\n",
    "    botao = int(total_seguidores/2)\n",
    "    for i in range(botao):\n",
    "        driver.find_element_by_tag_name('html').send_keys(Keys.PAGE_DOWN*100)\n",
    "    #com as tagas <a> liberadas após rolagem, código retira todos os nomes de perfil, e insere em uma lista\n",
    "    page = driver.page_source\n",
    "    soup = BeautifulSoup(page)\n",
    "    #soup.find_all('a')\n",
    "    lista_seguidores = [i.text for i in soup.find_all('a') if i.text != \"\"][16:]"
   ]
  },
  {
   "cell_type": "code",
   "execution_count": 5,
   "metadata": {
    "ExecuteTime": {
     "end_time": "2021-04-16T00:43:01.993798Z",
     "start_time": "2021-04-16T00:43:01.978776Z"
    }
   },
   "outputs": [],
   "source": [
    "#funcao passa em cada perfil da lista, e retira os dados de seus seguidores, adicionando a uma lista com os numeros.\n",
    "#as duas entradas são a lista de seguidores retiradas anteriormente, e uma nova lista para receber os novos dados.\n",
    "def dados_benford(lista_seguidores,numero_seguidores):\n",
    "    from selenium import webdriver\n",
    "    from selenium.webdriver.common.keys import Keys\n",
    "    from webdriver_manager.chrome import ChromeDriverManager\n",
    "    import time\n",
    "    import benford as bf\n",
    "    from bs4 import BeautifulSoup\n",
    "    from tqdm import tqdm\n",
    "\n",
    "    #driver = webdriver.Chrome()\n",
    "    page = \"followers\"\n",
    "    pause = 1\n",
    "    number_list = 0    \n",
    "    for i in lista_seguidores:\n",
    "        if (number_list/50 == pause):\n",
    "            #range de tempo aleatório\n",
    "            sleep(600)\n",
    "            pause +=1\n",
    "            try:\n",
    "                driver.get(f'http://www.instagram.com/{i}')\n",
    "                seguidores_influencer = driver.find_element_by_xpath('//*[@id=\"react-root\"]/section/main/div/header/section/ul/li[2]/a/span')\n",
    "                total_seguidores = (int(re.sub(r'[^\\w\\s]','',seguidores_influencer.get_attribute('title'))))\n",
    "                numero_seguidores.append(total_seguidores)\n",
    "            except:\n",
    "                numero_seguidores.append(0)\n",
    "                \n",
    "            print(f'{number_list} - Perfil:{i}, Seguidores:{total_seguidores}')\n",
    "            number_list+=1\n",
    "        else:\n",
    "            try:\n",
    "                driver.get(f'http://www.instagram.com/{i}')\n",
    "                seguidores_influencer = driver.find_element_by_xpath('//*[@id=\"react-root\"]/section/main/div/header/section/ul/li[2]/a/span')\n",
    "                total_seguidores = (int(re.sub(r'[^\\w\\s]','',seguidores_influencer.get_attribute('title'))))\n",
    "                numero_seguidores.append(total_seguidores)\n",
    "            except:\n",
    "                numero_seguidores.append(0)\n",
    "            print(f'{number_list} - Perfil:{i}, Seguidores:{total_seguidores}')\n",
    "            number_list+=1"
   ]
  },
  {
   "cell_type": "code",
   "execution_count": null,
   "metadata": {},
   "outputs": [],
   "source": [
    "#chamando função de login, para retirar núimero de seguidores e perfis de seguidores\n",
    "#passando o perfil que deseja retirar, e uma lista para que sejam adicionados os perfis\n",
    "busca_seguidores(influencer, lista_seguidores)"
   ]
  },
  {
   "cell_type": "code",
   "execution_count": null,
   "metadata": {},
   "outputs": [],
   "source": [
    "#chamando função para retirar informações, passando lista dos seguidores da função de busca, e passando lista para receber números de seguidores destes perfis\n",
    "dados_benford(lista_seguidores,numero_seguidores)"
   ]
  },
  {
   "cell_type": "code",
   "execution_count": 6,
   "metadata": {
    "ExecuteTime": {
     "end_time": "2021-04-16T00:43:18.291241Z",
     "start_time": "2021-04-16T00:43:18.258227Z"
    }
   },
   "outputs": [],
   "source": [
    "#abrir arquivo salvo\n",
    "df = pd.read_csv('perfil1.csv')"
   ]
  },
  {
   "cell_type": "code",
   "execution_count": 7,
   "metadata": {
    "ExecuteTime": {
     "end_time": "2021-04-16T00:43:30.448932Z",
     "start_time": "2021-04-16T00:43:30.427927Z"
    }
   },
   "outputs": [],
   "source": [
    "df1 = pd.read_csv('perfil2.csv')"
   ]
  },
  {
   "cell_type": "code",
   "execution_count": 8,
   "metadata": {
    "ExecuteTime": {
     "end_time": "2021-04-16T00:44:21.121025Z",
     "start_time": "2021-04-16T00:44:21.095973Z"
    }
   },
   "outputs": [
    {
     "data": {
      "text/html": [
       "<div>\n",
       "<style scoped>\n",
       "    .dataframe tbody tr th:only-of-type {\n",
       "        vertical-align: middle;\n",
       "    }\n",
       "\n",
       "    .dataframe tbody tr th {\n",
       "        vertical-align: top;\n",
       "    }\n",
       "\n",
       "    .dataframe thead th {\n",
       "        text-align: right;\n",
       "    }\n",
       "</style>\n",
       "<table border=\"1\" class=\"dataframe\">\n",
       "  <thead>\n",
       "    <tr style=\"text-align: right;\">\n",
       "      <th></th>\n",
       "      <th>perfil_seguidores1</th>\n",
       "      <th>numero_seguidores1</th>\n",
       "    </tr>\n",
       "  </thead>\n",
       "  <tbody>\n",
       "    <tr>\n",
       "      <th>0</th>\n",
       "      <td>josephlfsilva</td>\n",
       "      <td>1378</td>\n",
       "    </tr>\n",
       "    <tr>\n",
       "      <th>1</th>\n",
       "      <td>euemily.pxt</td>\n",
       "      <td>4022</td>\n",
       "    </tr>\n",
       "    <tr>\n",
       "      <th>2</th>\n",
       "      <td>tamiresrubia</td>\n",
       "      <td>2158</td>\n",
       "    </tr>\n",
       "    <tr>\n",
       "      <th>3</th>\n",
       "      <td>estersms2</td>\n",
       "      <td>1108</td>\n",
       "    </tr>\n",
       "    <tr>\n",
       "      <th>4</th>\n",
       "      <td>aaligajuridica</td>\n",
       "      <td>2310</td>\n",
       "    </tr>\n",
       "  </tbody>\n",
       "</table>\n",
       "</div>"
      ],
      "text/plain": [
       "  perfil_seguidores1  numero_seguidores1\n",
       "0      josephlfsilva                1378\n",
       "1        euemily.pxt                4022\n",
       "2       tamiresrubia                2158\n",
       "3          estersms2                1108\n",
       "4     aaligajuridica                2310"
      ]
     },
     "execution_count": 8,
     "metadata": {},
     "output_type": "execute_result"
    }
   ],
   "source": [
    "df.head()"
   ]
  },
  {
   "cell_type": "code",
   "execution_count": 9,
   "metadata": {
    "ExecuteTime": {
     "end_time": "2021-04-16T00:44:55.650808Z",
     "start_time": "2021-04-16T00:44:55.634797Z"
    }
   },
   "outputs": [
    {
     "data": {
      "text/html": [
       "<div>\n",
       "<style scoped>\n",
       "    .dataframe tbody tr th:only-of-type {\n",
       "        vertical-align: middle;\n",
       "    }\n",
       "\n",
       "    .dataframe tbody tr th {\n",
       "        vertical-align: top;\n",
       "    }\n",
       "\n",
       "    .dataframe thead th {\n",
       "        text-align: right;\n",
       "    }\n",
       "</style>\n",
       "<table border=\"1\" class=\"dataframe\">\n",
       "  <thead>\n",
       "    <tr style=\"text-align: right;\">\n",
       "      <th></th>\n",
       "      <th>perfil_seguidores2</th>\n",
       "      <th>numero_seguidores2</th>\n",
       "    </tr>\n",
       "  </thead>\n",
       "  <tbody>\n",
       "    <tr>\n",
       "      <th>0</th>\n",
       "      <td>vini_h20</td>\n",
       "      <td>45</td>\n",
       "    </tr>\n",
       "    <tr>\n",
       "      <th>1</th>\n",
       "      <td>cleitin791</td>\n",
       "      <td>48</td>\n",
       "    </tr>\n",
       "    <tr>\n",
       "      <th>2</th>\n",
       "      <td>adalberto_solidade_</td>\n",
       "      <td>38</td>\n",
       "    </tr>\n",
       "    <tr>\n",
       "      <th>3</th>\n",
       "      <td>lauraa.pachecoo</td>\n",
       "      <td>305</td>\n",
       "    </tr>\n",
       "    <tr>\n",
       "      <th>4</th>\n",
       "      <td>frasesparacasais2</td>\n",
       "      <td>67</td>\n",
       "    </tr>\n",
       "  </tbody>\n",
       "</table>\n",
       "</div>"
      ],
      "text/plain": [
       "    perfil_seguidores2  numero_seguidores2\n",
       "0             vini_h20                  45\n",
       "1           cleitin791                  48\n",
       "2  adalberto_solidade_                  38\n",
       "3      lauraa.pachecoo                 305\n",
       "4    frasesparacasais2                  67"
      ]
     },
     "execution_count": 9,
     "metadata": {},
     "output_type": "execute_result"
    }
   ],
   "source": [
    "df1.head()"
   ]
  },
  {
   "cell_type": "code",
   "execution_count": 12,
   "metadata": {
    "ExecuteTime": {
     "end_time": "2021-04-16T00:47:31.022267Z",
     "start_time": "2021-04-16T00:47:30.389992Z"
    }
   },
   "outputs": [
    {
     "name": "stdout",
     "output_type": "stream",
     "text": [
      "\n",
      "Initialized sequence with 1264 registries.\n",
      "\n",
      "Test performed on 1264 registries.\n",
      "Discarded 0 records < 1 after preparation.\n"
     ]
    },
    {
     "data": {
      "image/png": "[encoded data removed]",
      "text/plain": [
       "<Figure size 864x648 with 1 Axes>"
      ]
     },
     "metadata": {
      "needs_background": "light"
     },
     "output_type": "display_data"
    }
   ],
   "source": [
    "sp1 = pd.read_csv('perfil1.csv')\n",
    "f1d = bf.first_digits(sp1.numero_seguidores1, digs=1, decimals=2)"
   ]
  },
  {
   "cell_type": "code",
   "execution_count": 15,
   "metadata": {
    "ExecuteTime": {
     "end_time": "2021-04-16T00:47:50.082311Z",
     "start_time": "2021-04-16T00:47:49.904015Z"
    }
   },
   "outputs": [
    {
     "name": "stdout",
     "output_type": "stream",
     "text": [
      "\n",
      "Initialized sequence with 2368 registries.\n",
      "\n",
      "Test performed on 2368 registries.\n",
      "Discarded 0 records < 1 after preparation.\n"
     ]
    },
    {
     "data": {
      "image/png": "[encoded data removed]",
      "text/plain": [
       "<Figure size 864x648 with 1 Axes>"
      ]
     },
     "metadata": {
      "needs_background": "light"
     },
     "output_type": "display_data"
    }
   ],
   "source": [
    "sp2 = pd.read_csv('perfil2.csv')\n",
    "f1d = bf.first_digits(sp2.numero_seguidores2, digs=1, decimals=2)"
   ]
  },
  {
   "cell_type": "code",
   "execution_count": null,
   "metadata": {},
   "outputs": [],
   "source": []
  }
 ],
 "metadata": {
  "hide_input": false,
  "kernelspec": {
   "display_name": "Python 3",
   "language": "python",
   "name": "python3"
  },
  "language_info": {
   "codemirror_mode": {
    "name": "ipython",
    "version": 3
   },
   "file_extension": ".py",
   "mimetype": "text/x-python",
   "name": "python",
   "nbconvert_exporter": "python",
   "pygments_lexer": "ipython3",
   "version": "3.8.5"
  },
  "toc": {
   "base_numbering": 1,
   "nav_menu": {},
   "number_sections": true,
   "sideBar": true,
   "skip_h1_title": false,
   "title_cell": "Table of Contents",
   "title_sidebar": "Contents",
   "toc_cell": false,
   "toc_position": {},
   "toc_section_display": true,
   "toc_window_display": false
  },
  "varInspector": {
   "cols": {
    "lenName": 16,
    "lenType": 16,
    "lenVar": 40
   },
   "kernels_config": {
    "python": {
     "delete_cmd_postfix": "",
     "delete_cmd_prefix": "del ",
     "library": "var_list.py",
     "varRefreshCmd": "print(var_dic_list())"
    },
    "r": {
     "delete_cmd_postfix": ") ",
     "delete_cmd_prefix": "rm(",
     "library": "var_list.r",
     "varRefreshCmd": "cat(var_dic_list()) "
    }
   },
   "types_to_exclude": [
    "module",
    "function",
    "builtin_function_or_method",
    "instance",
    "_Feature"
   ],
   "window_display": false
  }
 },
 "nbformat": 4,
 "nbformat_minor": 4
}
